{
  "cells": [
    {
      "cell_type": "markdown",
      "metadata": {
        "id": "lhOA8FqYcRI0"
      },
      "source": [
        "# Sleep Scoring Project - Google Colab Notebook\n",
        "\n",
        "This notebook allows you to run the Python sleep scoring pipeline in a Google Colab environment.\n",
        "\n",
        "## 🚀 How to Use\n",
        "\n",
        "1.  **Clone the Repository:** Run the first code cell to clone the project repository from GitHub.\n",
        "2.  **Install Dependencies:** The second cell installs the necessary Python packages.\n",
        "3.  **Configure Pipeline:** The third cell updates the configuration to use the sample data.\n",
        "4.  **Run the Pipeline:** The main part of the notebook is in the fourth cell, which runs the complete sleep scoring pipeline.\n",
        "5.  **View Results:** The results, including visualizations and reports, will be displayed in the notebook."
      ]
    },
    {
      "cell_type": "code",
      "execution_count": 12,
      "metadata": {
        "colab": {
          "base_uri": "https://localhost:8080/"
        },
        "id": "4AxZeIHIcRI1",
        "outputId": "1d679c74-8087-41e3-cc60-3cb224f3067a"
      },
      "outputs": [
        {
          "name": "stdout",
          "output_type": "stream",
          "text": [
            "Drive already mounted at /content/drive; to attempt to forcibly remount, call drive.mount(\"/content/drive\", force_remount=True).\n",
            "/content/drive/My Drive/CM2013/Python\n"
          ]
        }
      ],
      "source": [
        "# 1. Clone/Load the Repository Content\n",
        "load_from = \"GoogleDrive\" # {\"GoogleDrive\", \"GitHub\"}\n",
        "userName = \"farhad-abtahi\"\n",
        "repoName = \"CM2013\"\n",
        "\n",
        "if load_from == \"GitHub\":\n",
        "  # Clone the Repository from GitHub\n",
        "  !git clone \"https://github.com/{userName}/{repoName}.git\"\n",
        "  %cd \"{repoName}/Python\"\n",
        "\n",
        "elif load_from == \"GoogleDrive\":\n",
        "  # Load the Repository Content from Google Drive\n",
        "  try: # Google Colab\n",
        "    from google.colab import drive # This module is only available in Colab.\n",
        "    drive.mount('/content/drive')\n",
        "    %cd \"/content/drive/My Drive/{repoName}/Python\"\n",
        "  except ImportError: # Non-Google Colab\n",
        "    print(\"Try using Google Colab.\")"
      ]
    },
    {
      "cell_type": "code",
      "execution_count": 13,
      "metadata": {
        "colab": {
          "base_uri": "https://localhost:8080/"
        },
        "id": "VUxgfdvbcRI2",
        "outputId": "1b2cf13c-46c2-42fc-f96f-ef23773ae889"
      },
      "outputs": [
        {
          "name": "stdout",
          "output_type": "stream",
          "text": [
            "Requirement already satisfied: numpy in /usr/local/lib/python3.12/dist-packages (from -r requirements.txt (line 1)) (2.0.2)\n",
            "Requirement already satisfied: scipy in /usr/local/lib/python3.12/dist-packages (from -r requirements.txt (line 2)) (1.16.2)\n",
            "Requirement already satisfied: scikit-learn in /usr/local/lib/python3.12/dist-packages (from -r requirements.txt (line 3)) (1.6.1)\n",
            "Requirement already satisfied: matplotlib in /usr/local/lib/python3.12/dist-packages (from -r requirements.txt (line 4)) (3.10.0)\n",
            "Requirement already satisfied: joblib in /usr/local/lib/python3.12/dist-packages (from -r requirements.txt (line 5)) (1.5.2)\n",
            "Requirement already satisfied: mne in /usr/local/lib/python3.12/dist-packages (from -r requirements.txt (line 6)) (1.10.1)\n",
            "Requirement already satisfied: threadpoolctl>=3.1.0 in /usr/local/lib/python3.12/dist-packages (from scikit-learn->-r requirements.txt (line 3)) (3.6.0)\n",
            "Requirement already satisfied: contourpy>=1.0.1 in /usr/local/lib/python3.12/dist-packages (from matplotlib->-r requirements.txt (line 4)) (1.3.3)\n",
            "Requirement already satisfied: cycler>=0.10 in /usr/local/lib/python3.12/dist-packages (from matplotlib->-r requirements.txt (line 4)) (0.12.1)\n",
            "Requirement already satisfied: fonttools>=4.22.0 in /usr/local/lib/python3.12/dist-packages (from matplotlib->-r requirements.txt (line 4)) (4.60.0)\n",
            "Requirement already satisfied: kiwisolver>=1.3.1 in /usr/local/lib/python3.12/dist-packages (from matplotlib->-r requirements.txt (line 4)) (1.4.9)\n",
            "Requirement already satisfied: packaging>=20.0 in /usr/local/lib/python3.12/dist-packages (from matplotlib->-r requirements.txt (line 4)) (25.0)\n",
            "Requirement already satisfied: pillow>=8 in /usr/local/lib/python3.12/dist-packages (from matplotlib->-r requirements.txt (line 4)) (11.3.0)\n",
            "Requirement already satisfied: pyparsing>=2.3.1 in /usr/local/lib/python3.12/dist-packages (from matplotlib->-r requirements.txt (line 4)) (3.2.4)\n",
            "Requirement already satisfied: python-dateutil>=2.7 in /usr/local/lib/python3.12/dist-packages (from matplotlib->-r requirements.txt (line 4)) (2.9.0.post0)\n",
            "Requirement already satisfied: decorator in /usr/local/lib/python3.12/dist-packages (from mne->-r requirements.txt (line 6)) (4.4.2)\n",
            "Requirement already satisfied: jinja2 in /usr/local/lib/python3.12/dist-packages (from mne->-r requirements.txt (line 6)) (3.1.6)\n",
            "Requirement already satisfied: lazy-loader>=0.3 in /usr/local/lib/python3.12/dist-packages (from mne->-r requirements.txt (line 6)) (0.4)\n",
            "Requirement already satisfied: pooch>=1.5 in /usr/local/lib/python3.12/dist-packages (from mne->-r requirements.txt (line 6)) (1.8.2)\n",
            "Requirement already satisfied: tqdm in /usr/local/lib/python3.12/dist-packages (from mne->-r requirements.txt (line 6)) (4.67.1)\n",
            "Requirement already satisfied: platformdirs>=2.5.0 in /usr/local/lib/python3.12/dist-packages (from pooch>=1.5->mne->-r requirements.txt (line 6)) (4.4.0)\n",
            "Requirement already satisfied: requests>=2.19.0 in /usr/local/lib/python3.12/dist-packages (from pooch>=1.5->mne->-r requirements.txt (line 6)) (2.32.4)\n",
            "Requirement already satisfied: six>=1.5 in /usr/local/lib/python3.12/dist-packages (from python-dateutil>=2.7->matplotlib->-r requirements.txt (line 4)) (1.17.0)\n",
            "Requirement already satisfied: MarkupSafe>=2.0 in /usr/local/lib/python3.12/dist-packages (from jinja2->mne->-r requirements.txt (line 6)) (3.0.2)\n",
            "Requirement already satisfied: charset_normalizer<4,>=2 in /usr/local/lib/python3.12/dist-packages (from requests>=2.19.0->pooch>=1.5->mne->-r requirements.txt (line 6)) (3.4.3)\n",
            "Requirement already satisfied: idna<4,>=2.5 in /usr/local/lib/python3.12/dist-packages (from requests>=2.19.0->pooch>=1.5->mne->-r requirements.txt (line 6)) (3.10)\n",
            "Requirement already satisfied: urllib3<3,>=1.21.1 in /usr/local/lib/python3.12/dist-packages (from requests>=2.19.0->pooch>=1.5->mne->-r requirements.txt (line 6)) (2.5.0)\n",
            "Requirement already satisfied: certifi>=2017.4.17 in /usr/local/lib/python3.12/dist-packages (from requests>=2.19.0->pooch>=1.5->mne->-r requirements.txt (line 6)) (2025.8.3)\n"
          ]
        }
      ],
      "source": [
        "# 2. Install Dependencies\n",
        "!pip install -r requirements.txt"
      ]
    },
    {
      "cell_type": "code",
      "execution_count": 1,
      "metadata": {
        "colab": {
          "base_uri": "https://localhost:8080/"
        },
        "id": "Z_wSGm7qcRI2",
        "outputId": "4b97a2f4-3d2a-4bdc-eb51-1264b79c0da3"
      },
      "outputs": [
        {
          "name": "stdout",
          "output_type": "stream",
          "text": [
            "TRAINING_DIR: ../data/sample/\n"
          ]
        }
      ],
      "source": [
        "# 3. Configure Pipeline\n",
        "import config\n",
        "config.TRAINING_DIR = f'{config.DATA_DIR}sample/'\n",
        "print(f\"TRAINING_DIR: {config.TRAINING_DIR}\")"
      ]
    },
    {
      "cell_type": "code",
      "execution_count": 2,
      "metadata": {
        "colab": {
          "base_uri": "https://localhost:8080/",
          "height": 1000
        },
        "id": "6_Uw0Xg4cRI2",
        "outputId": "6ab42b65-4a73-4c65-afb4-f1dde2b4f702"
      },
      "outputs": [
        {
          "data": {
            "image/png": "[encoded data removed]",
            "text/plain": [
              "<Figure size 640x480 with 2 Axes>"
            ]
          },
          "metadata": {},
          "output_type": "display_data"
        },
        {
          "name": "stdout",
          "output_type": "stream",
          "text": [
            "Generating report...\n",
            "Report saved to report.txt\n",
            "\n",
            "==================================================\n",
            "PIPELINE FINISHED\n",
            "==================================================\n"
          ]
        }
      ],
      "source": [
        "# 4. Run the Pipeline\n",
        "import sys\n",
        "sys.path.append('../')\n",
        "from Python import main\n",
        "main.main()"
      ]
    }
  ],
  "metadata": {
    "colab": {
      "provenance": []
    },
    "kernelspec": {
      "display_name": "mmth-env",
      "language": "python",
      "name": "python3"
    },
    "language_info": {
      "codemirror_mode": {
        "name": "ipython",
        "version": 3
      },
      "file_extension": ".py",
      "mimetype": "text/x-python",
      "name": "python",
      "nbconvert_exporter": "python",
      "pygments_lexer": "ipython3",
      "version": "3.12.11"
    }
  },
  "nbformat": 4,
  "nbformat_minor": 0
}
